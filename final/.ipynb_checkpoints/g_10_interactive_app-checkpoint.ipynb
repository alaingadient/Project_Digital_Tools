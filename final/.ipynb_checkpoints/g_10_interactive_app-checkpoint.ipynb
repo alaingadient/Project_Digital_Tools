{
 "cells": [
  {
   "cell_type": "code",
   "execution_count": 1,
   "id": "bf3d57c9",
   "metadata": {},
   "outputs": [],
   "source": [
    "# import pakages\n",
    "import downstream as dst\n",
    "import calculation as calc\n",
    "import os\n",
    "import json\n",
    "import pandas as pd\n",
    "import numpy as np\n",
    "import matplotlib.pyplot as plt"
   ]
  },
  {
   "cell_type": "code",
   "execution_count": 2,
   "id": "98714c14",
   "metadata": {},
   "outputs": [],
   "source": [
    "# load the data\n",
    "data=dst.load_data()\n",
    "# get a dataframe of the data\n",
    "table=dst.preprocess_data_log_returns(data)\n",
    "es_table=calc.expected_shortfall(table, alpha=0.05)"
   ]
  },
  {
   "cell_type": "code",
   "execution_count": 3,
   "id": "d6f15f87",
   "metadata": {},
   "outputs": [],
   "source": [
    "#Interactive app\n",
    "%matplotlib inline\n",
    "from ipywidgets import interact, interactive, fixed, interact_manual\n",
    "import ipywidgets as widgets\n",
    "import matplotlib.pyplot as plt\n",
    "import numpy as np\n",
    "\n",
    "def plot_func(alpha):\n",
    "    es_table = calc.expected_shortfall(table, alpha)\n",
    "    x = es_table.columns\n",
    "    y = calc.expected_shortfall(table, alpha).iloc[0]\n",
    "    plt.figure(figsize=(8, 6), dpi=80)\n",
    "    plt.title('Expected Shortfall of CHF pairs')\n",
    "    plt.xlabel('CHF pairs') \n",
    "    plt.ylabel('Expected Shortfall') \n",
    "    plt.plot(x, y)\n",
    "    \n",
    "\n",
    "interact(plot_func, alpha = widgets.FloatSlider(value=0.05,min=0.01,max=1.0,step=0.01))"
   ]
  },
  {
   "cell_type": "code",
   "execution_count": null,
   "id": "f6a33840",
   "metadata": {},
   "outputs": [],
   "source": []
  },
  {
   "cell_type": "code",
   "execution_count": null,
   "id": "d264126b",
   "metadata": {},
   "outputs": [],
   "source": []
  }
 ],
 "metadata": {
  "kernelspec": {
   "display_name": "Python 3",
   "language": "python",
   "name": "python3"
  },
  "language_info": {
   "codemirror_mode": {
    "name": "ipython",
    "version": 3
   },
   "file_extension": ".py",
   "mimetype": "text/x-python",
   "name": "python",
   "nbconvert_exporter": "python",
   "pygments_lexer": "ipython3",
   "version": "3.8.8"
  }
 },
 "nbformat": 4,
 "nbformat_minor": 5
}
