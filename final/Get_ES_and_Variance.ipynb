{
 "cells": [
  {
   "cell_type": "code",
   "execution_count": 17,
   "id": "11d8dedd",
   "metadata": {},
   "outputs": [],
   "source": [
    "# import pakages\n",
    "import downstream as dst\n",
    "import calculation as calc\n",
    "import upstream as upst\n",
    "import os\n",
    "import json\n",
    "import pandas as pd\n",
    "import numpy as np\n",
    "import matplotlib.pyplot as plt\n",
    "import requests"
   ]
  },
  {
   "cell_type": "code",
   "execution_count": 18,
   "id": "a2627b2f",
   "metadata": {},
   "outputs": [],
   "source": [
    "# get the data with the API\n",
    "upst.get_fx()"
   ]
  },
  {
   "cell_type": "code",
   "execution_count": 20,
   "id": "0d7f0ef2",
   "metadata": {},
   "outputs": [],
   "source": [
    "# load the data\n",
    "data=dst.load_data()"
   ]
  },
  {
   "cell_type": "code",
   "execution_count": 21,
   "id": "de4f3364",
   "metadata": {},
   "outputs": [],
   "source": [
    "# get a dataframe of the data\n",
    "table=dst.preprocess_data_log_returns(data)"
   ]
  },
  {
   "cell_type": "code",
   "execution_count": 16,
   "id": "0747c180",
   "metadata": {},
   "outputs": [
    {
     "data": {
      "text/html": [
       "<div>\n",
       "<style scoped>\n",
       "    .dataframe tbody tr th:only-of-type {\n",
       "        vertical-align: middle;\n",
       "    }\n",
       "\n",
       "    .dataframe tbody tr th {\n",
       "        vertical-align: top;\n",
       "    }\n",
       "\n",
       "    .dataframe thead th {\n",
       "        text-align: right;\n",
       "    }\n",
       "</style>\n",
       "<table border=\"1\" class=\"dataframe\">\n",
       "  <thead>\n",
       "    <tr style=\"text-align: right;\">\n",
       "      <th></th>\n",
       "      <th>0</th>\n",
       "    </tr>\n",
       "  </thead>\n",
       "  <tbody>\n",
       "    <tr>\n",
       "      <th>CHFUSD</th>\n",
       "      <td>0.000016</td>\n",
       "    </tr>\n",
       "    <tr>\n",
       "      <th>CHFEUR</th>\n",
       "      <td>0.000008</td>\n",
       "    </tr>\n",
       "    <tr>\n",
       "      <th>CHFGBP</th>\n",
       "      <td>0.000028</td>\n",
       "    </tr>\n",
       "    <tr>\n",
       "      <th>CHFJPY</th>\n",
       "      <td>0.000016</td>\n",
       "    </tr>\n",
       "    <tr>\n",
       "      <th>CHFAUD</th>\n",
       "      <td>0.000039</td>\n",
       "    </tr>\n",
       "    <tr>\n",
       "      <th>CHFNZD</th>\n",
       "      <td>0.000062</td>\n",
       "    </tr>\n",
       "    <tr>\n",
       "      <th>CHFCAD</th>\n",
       "      <td>0.000027</td>\n",
       "    </tr>\n",
       "    <tr>\n",
       "      <th>CHFNOK</th>\n",
       "      <td>0.000070</td>\n",
       "    </tr>\n",
       "    <tr>\n",
       "      <th>CHFSEK</th>\n",
       "      <td>0.000023</td>\n",
       "    </tr>\n",
       "  </tbody>\n",
       "</table>\n",
       "</div>"
      ],
      "text/plain": [
       "               0\n",
       "CHFUSD  0.000016\n",
       "CHFEUR  0.000008\n",
       "CHFGBP  0.000028\n",
       "CHFJPY  0.000016\n",
       "CHFAUD  0.000039\n",
       "CHFNZD  0.000062\n",
       "CHFCAD  0.000027\n",
       "CHFNOK  0.000070\n",
       "CHFSEK  0.000023"
      ]
     },
     "execution_count": 16,
     "metadata": {},
     "output_type": "execute_result"
    }
   ],
   "source": [
    "# calculate Variance\n",
    "var_table=table.var()\n",
    "var_table=pd.DataFrame(var_table)\n",
    "#var_table.columns=['Variance']\n",
    "var_table"
   ]
  },
  {
   "cell_type": "code",
   "execution_count": 8,
   "id": "1276b82e",
   "metadata": {},
   "outputs": [
    {
     "data": {
      "text/html": [
       "<div>\n",
       "<style scoped>\n",
       "    .dataframe tbody tr th:only-of-type {\n",
       "        vertical-align: middle;\n",
       "    }\n",
       "\n",
       "    .dataframe tbody tr th {\n",
       "        vertical-align: top;\n",
       "    }\n",
       "\n",
       "    .dataframe thead th {\n",
       "        text-align: right;\n",
       "    }\n",
       "</style>\n",
       "<table border=\"1\" class=\"dataframe\">\n",
       "  <thead>\n",
       "    <tr style=\"text-align: right;\">\n",
       "      <th></th>\n",
       "      <th>CHFUSD</th>\n",
       "      <th>CHFEUR</th>\n",
       "      <th>CHFGBP</th>\n",
       "      <th>CHFJPY</th>\n",
       "      <th>CHFAUD</th>\n",
       "      <th>CHFNZD</th>\n",
       "      <th>CHFCAD</th>\n",
       "      <th>CHFNOK</th>\n",
       "      <th>CHFSEK</th>\n",
       "    </tr>\n",
       "  </thead>\n",
       "  <tbody>\n",
       "    <tr>\n",
       "      <th>0</th>\n",
       "      <td>-0.009797</td>\n",
       "      <td>-0.007036</td>\n",
       "      <td>-0.011182</td>\n",
       "      <td>-0.008227</td>\n",
       "      <td>-0.015058</td>\n",
       "      <td>-0.014231</td>\n",
       "      <td>-0.012587</td>\n",
       "      <td>-0.018147</td>\n",
       "      <td>-0.01093</td>\n",
       "    </tr>\n",
       "  </tbody>\n",
       "</table>\n",
       "</div>"
      ],
      "text/plain": [
       "     CHFUSD    CHFEUR    CHFGBP    CHFJPY    CHFAUD    CHFNZD    CHFCAD  \\\n",
       "0 -0.009797 -0.007036 -0.011182 -0.008227 -0.015058 -0.014231 -0.012587   \n",
       "\n",
       "     CHFNOK   CHFSEK  \n",
       "0 -0.018147 -0.01093  "
      ]
     },
     "execution_count": 8,
     "metadata": {},
     "output_type": "execute_result"
    }
   ],
   "source": [
    "# calculate ES\n",
    "es_table=calc.expected_shortfall(table, alpha=0.05)\n",
    "es_table"
   ]
  },
  {
   "cell_type": "code",
   "execution_count": null,
   "id": "5583eb0d",
   "metadata": {},
   "outputs": [],
   "source": []
  }
 ],
 "metadata": {
  "kernelspec": {
   "display_name": "Python 3",
   "language": "python",
   "name": "python3"
  },
  "language_info": {
   "codemirror_mode": {
    "name": "ipython",
    "version": 3
   },
   "file_extension": ".py",
   "mimetype": "text/x-python",
   "name": "python",
   "nbconvert_exporter": "python",
   "pygments_lexer": "ipython3",
   "version": "3.8.8"
  }
 },
 "nbformat": 4,
 "nbformat_minor": 5
}
