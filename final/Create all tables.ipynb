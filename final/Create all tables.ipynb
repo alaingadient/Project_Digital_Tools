{
 "cells": [
  {
   "cell_type": "code",
   "execution_count": 1,
   "id": "40650775",
   "metadata": {},
   "outputs": [
    {
     "name": "stderr",
     "output_type": "stream",
     "text": [
      "WARNING: Retrying (Retry(total=4, connect=None, read=None, redirect=None, status=None)) after connection broken by 'NewConnectionError('<pip._vendor.urllib3.connection.HTTPSConnection object at 0x000001DA2650CFD0>: Failed to establish a new connection: [Errno 11001] getaddrinfo failed')': /simple/scipy-stats/\n",
      "WARNING: Retrying (Retry(total=3, connect=None, read=None, redirect=None, status=None)) after connection broken by 'NewConnectionError('<pip._vendor.urllib3.connection.HTTPSConnection object at 0x000001DA2651E250>: Failed to establish a new connection: [Errno 11001] getaddrinfo failed')': /simple/scipy-stats/\n",
      "WARNING: Retrying (Retry(total=2, connect=None, read=None, redirect=None, status=None)) after connection broken by 'NewConnectionError('<pip._vendor.urllib3.connection.HTTPSConnection object at 0x000001DA2651E430>: Failed to establish a new connection: [Errno 11001] getaddrinfo failed')': /simple/scipy-stats/\n",
      "WARNING: Retrying (Retry(total=1, connect=None, read=None, redirect=None, status=None)) after connection broken by 'NewConnectionError('<pip._vendor.urllib3.connection.HTTPSConnection object at 0x000001DA2651E610>: Failed to establish a new connection: [Errno 11001] getaddrinfo failed')': /simple/scipy-stats/\n",
      "WARNING: Retrying (Retry(total=0, connect=None, read=None, redirect=None, status=None)) after connection broken by 'NewConnectionError('<pip._vendor.urllib3.connection.HTTPSConnection object at 0x000001DA2651E7F0>: Failed to establish a new connection: [Errno 11001] getaddrinfo failed')': /simple/scipy-stats/\n",
      "ERROR: Could not find a version that satisfies the requirement scipy.stats\n",
      "ERROR: No matching distribution found for scipy.stats\n"
     ]
    },
    {
     "name": "stdout",
     "output_type": "stream",
     "text": [
      "Requirement already satisfied: seaborn in c:\\users\\alain\\anaconda3\\lib\\site-packages (0.11.1)\n",
      "Requirement already satisfied: numpy>=1.15 in c:\\users\\alain\\anaconda3\\lib\\site-packages (from seaborn) (1.20.1)\n",
      "Requirement already satisfied: scipy>=1.0 in c:\\users\\alain\\anaconda3\\lib\\site-packages (from seaborn) (1.6.2)\n",
      "Requirement already satisfied: pandas>=0.23 in c:\\users\\alain\\anaconda3\\lib\\site-packages (from seaborn) (1.2.4)\n",
      "Requirement already satisfied: matplotlib>=2.2 in c:\\users\\alain\\anaconda3\\lib\\site-packages (from seaborn) (3.3.4)\n",
      "Requirement already satisfied: python-dateutil>=2.1 in c:\\users\\alain\\anaconda3\\lib\\site-packages (from matplotlib>=2.2->seaborn) (2.8.1)\n",
      "Requirement already satisfied: pillow>=6.2.0 in c:\\users\\alain\\anaconda3\\lib\\site-packages (from matplotlib>=2.2->seaborn) (8.2.0)\n",
      "Requirement already satisfied: pyparsing!=2.0.4,!=2.1.2,!=2.1.6,>=2.0.3 in c:\\users\\alain\\anaconda3\\lib\\site-packages (from matplotlib>=2.2->seaborn) (2.4.7)\n",
      "Requirement already satisfied: kiwisolver>=1.0.1 in c:\\users\\alain\\anaconda3\\lib\\site-packages (from matplotlib>=2.2->seaborn) (1.3.1)\n",
      "Requirement already satisfied: cycler>=0.10 in c:\\users\\alain\\anaconda3\\lib\\site-packages (from matplotlib>=2.2->seaborn) (0.10.0)\n",
      "Requirement already satisfied: six in c:\\users\\alain\\anaconda3\\lib\\site-packages (from cycler>=0.10->matplotlib>=2.2->seaborn) (1.15.0)\n",
      "Requirement already satisfied: pytz>=2017.3 in c:\\users\\alain\\anaconda3\\lib\\site-packages (from pandas>=0.23->seaborn) (2021.1)\n",
      "Requirement already satisfied: dataframe_image in c:\\users\\alain\\anaconda3\\lib\\site-packages (0.1.3)\n",
      "Requirement already satisfied: matplotlib>=3.1 in c:\\users\\alain\\anaconda3\\lib\\site-packages (from dataframe_image) (3.3.4)\n",
      "Requirement already satisfied: beautifulsoup4 in c:\\users\\alain\\anaconda3\\lib\\site-packages (from dataframe_image) (4.9.3)\n",
      "Requirement already satisfied: requests in c:\\users\\alain\\anaconda3\\lib\\site-packages (from dataframe_image) (2.25.1)\n",
      "Requirement already satisfied: pandas>=0.24 in c:\\users\\alain\\anaconda3\\lib\\site-packages (from dataframe_image) (1.2.4)\n",
      "Requirement already satisfied: aiohttp in c:\\users\\alain\\anaconda3\\lib\\site-packages (from dataframe_image) (3.8.3)\n",
      "Requirement already satisfied: nbconvert>=5 in c:\\users\\alain\\anaconda3\\lib\\site-packages (from dataframe_image) (6.0.7)\n",
      "Requirement already satisfied: packaging in c:\\users\\alain\\anaconda3\\lib\\site-packages (from dataframe_image) (20.9)\n",
      "Requirement already satisfied: mistune in c:\\users\\alain\\anaconda3\\lib\\site-packages (from dataframe_image) (0.8.4)\n",
      "Requirement already satisfied: python-dateutil>=2.1 in c:\\users\\alain\\anaconda3\\lib\\site-packages (from matplotlib>=3.1->dataframe_image) (2.8.1)\n",
      "Requirement already satisfied: kiwisolver>=1.0.1 in c:\\users\\alain\\anaconda3\\lib\\site-packages (from matplotlib>=3.1->dataframe_image) (1.3.1)\n",
      "Requirement already satisfied: pillow>=6.2.0 in c:\\users\\alain\\anaconda3\\lib\\site-packages (from matplotlib>=3.1->dataframe_image) (8.2.0)\n",
      "Requirement already satisfied: pyparsing!=2.0.4,!=2.1.2,!=2.1.6,>=2.0.3 in c:\\users\\alain\\anaconda3\\lib\\site-packages (from matplotlib>=3.1->dataframe_image) (2.4.7)\n",
      "Requirement already satisfied: cycler>=0.10 in c:\\users\\alain\\anaconda3\\lib\\site-packages (from matplotlib>=3.1->dataframe_image) (0.10.0)\n",
      "Requirement already satisfied: numpy>=1.15 in c:\\users\\alain\\anaconda3\\lib\\site-packages (from matplotlib>=3.1->dataframe_image) (1.20.1)\n",
      "Requirement already satisfied: six in c:\\users\\alain\\anaconda3\\lib\\site-packages (from cycler>=0.10->matplotlib>=3.1->dataframe_image) (1.15.0)\n",
      "Requirement already satisfied: nbclient<0.6.0,>=0.5.0 in c:\\users\\alain\\anaconda3\\lib\\site-packages (from nbconvert>=5->dataframe_image) (0.5.3)\n",
      "Requirement already satisfied: nbformat>=4.4 in c:\\users\\alain\\anaconda3\\lib\\site-packages (from nbconvert>=5->dataframe_image) (5.1.3)\n",
      "Requirement already satisfied: traitlets>=4.2 in c:\\users\\alain\\anaconda3\\lib\\site-packages (from nbconvert>=5->dataframe_image) (5.0.5)\n",
      "Requirement already satisfied: pandocfilters>=1.4.1 in c:\\users\\alain\\anaconda3\\lib\\site-packages (from nbconvert>=5->dataframe_image) (1.4.3)\n",
      "Requirement already satisfied: entrypoints>=0.2.2 in c:\\users\\alain\\anaconda3\\lib\\site-packages (from nbconvert>=5->dataframe_image) (0.3)\n",
      "Requirement already satisfied: bleach in c:\\users\\alain\\anaconda3\\lib\\site-packages (from nbconvert>=5->dataframe_image) (3.3.0)\n",
      "Requirement already satisfied: testpath in c:\\users\\alain\\anaconda3\\lib\\site-packages (from nbconvert>=5->dataframe_image) (0.4.4)\n",
      "Requirement already satisfied: pygments>=2.4.1 in c:\\users\\alain\\anaconda3\\lib\\site-packages (from nbconvert>=5->dataframe_image) (2.8.1)\n",
      "Requirement already satisfied: defusedxml in c:\\users\\alain\\anaconda3\\lib\\site-packages (from nbconvert>=5->dataframe_image) (0.7.1)\n",
      "Requirement already satisfied: jinja2>=2.4 in c:\\users\\alain\\anaconda3\\lib\\site-packages (from nbconvert>=5->dataframe_image) (2.11.3)\n",
      "Requirement already satisfied: jupyter-core in c:\\users\\alain\\anaconda3\\lib\\site-packages (from nbconvert>=5->dataframe_image) (4.7.1)\n",
      "Requirement already satisfied: jupyterlab-pygments in c:\\users\\alain\\anaconda3\\lib\\site-packages (from nbconvert>=5->dataframe_image) (0.1.2)\n",
      "Requirement already satisfied: MarkupSafe>=0.23 in c:\\users\\alain\\anaconda3\\lib\\site-packages (from jinja2>=2.4->nbconvert>=5->dataframe_image) (1.1.1)\n",
      "Requirement already satisfied: jupyter-client>=6.1.5 in c:\\users\\alain\\anaconda3\\lib\\site-packages (from nbclient<0.6.0,>=0.5.0->nbconvert>=5->dataframe_image) (6.1.12)\n",
      "Requirement already satisfied: nest-asyncio in c:\\users\\alain\\anaconda3\\lib\\site-packages (from nbclient<0.6.0,>=0.5.0->nbconvert>=5->dataframe_image) (1.5.1)\n",
      "Requirement already satisfied: async-generator in c:\\users\\alain\\anaconda3\\lib\\site-packages (from nbclient<0.6.0,>=0.5.0->nbconvert>=5->dataframe_image) (1.10)\n",
      "Requirement already satisfied: tornado>=4.1 in c:\\users\\alain\\anaconda3\\lib\\site-packages (from jupyter-client>=6.1.5->nbclient<0.6.0,>=0.5.0->nbconvert>=5->dataframe_image) (6.1)\n",
      "Requirement already satisfied: pyzmq>=13 in c:\\users\\alain\\anaconda3\\lib\\site-packages (from jupyter-client>=6.1.5->nbclient<0.6.0,>=0.5.0->nbconvert>=5->dataframe_image) (20.0.0)\n",
      "Requirement already satisfied: pywin32>=1.0 in c:\\users\\alain\\anaconda3\\lib\\site-packages (from jupyter-core->nbconvert>=5->dataframe_image) (227)\n",
      "Requirement already satisfied: jsonschema!=2.5.0,>=2.4 in c:\\users\\alain\\anaconda3\\lib\\site-packages (from nbformat>=4.4->nbconvert>=5->dataframe_image) (3.2.0)\n",
      "Requirement already satisfied: ipython-genutils in c:\\users\\alain\\anaconda3\\lib\\site-packages (from nbformat>=4.4->nbconvert>=5->dataframe_image) (0.2.0)\n",
      "Requirement already satisfied: setuptools in c:\\users\\alain\\anaconda3\\lib\\site-packages (from jsonschema!=2.5.0,>=2.4->nbformat>=4.4->nbconvert>=5->dataframe_image) (52.0.0.post20210125)\n",
      "Requirement already satisfied: attrs>=17.4.0 in c:\\users\\alain\\anaconda3\\lib\\site-packages (from jsonschema!=2.5.0,>=2.4->nbformat>=4.4->nbconvert>=5->dataframe_image) (20.3.0)\n",
      "Requirement already satisfied: pyrsistent>=0.14.0 in c:\\users\\alain\\anaconda3\\lib\\site-packages (from jsonschema!=2.5.0,>=2.4->nbformat>=4.4->nbconvert>=5->dataframe_image) (0.17.3)\n",
      "Requirement already satisfied: pytz>=2017.3 in c:\\users\\alain\\anaconda3\\lib\\site-packages (from pandas>=0.24->dataframe_image) (2021.1)\n",
      "Requirement already satisfied: yarl<2.0,>=1.0 in c:\\users\\alain\\anaconda3\\lib\\site-packages (from aiohttp->dataframe_image) (1.8.2)\n",
      "Requirement already satisfied: frozenlist>=1.1.1 in c:\\users\\alain\\anaconda3\\lib\\site-packages (from aiohttp->dataframe_image) (1.3.3)\n",
      "Requirement already satisfied: async-timeout<5.0,>=4.0.0a3 in c:\\users\\alain\\anaconda3\\lib\\site-packages (from aiohttp->dataframe_image) (4.0.2)\n",
      "Requirement already satisfied: aiosignal>=1.1.2 in c:\\users\\alain\\anaconda3\\lib\\site-packages (from aiohttp->dataframe_image) (1.3.1)\n",
      "Requirement already satisfied: multidict<7.0,>=4.5 in c:\\users\\alain\\anaconda3\\lib\\site-packages (from aiohttp->dataframe_image) (6.0.3)\n",
      "Requirement already satisfied: charset-normalizer<3.0,>=2.0 in c:\\users\\alain\\anaconda3\\lib\\site-packages (from aiohttp->dataframe_image) (2.1.1)\n",
      "Requirement already satisfied: idna>=2.0 in c:\\users\\alain\\anaconda3\\lib\\site-packages (from yarl<2.0,>=1.0->aiohttp->dataframe_image) (2.10)\n",
      "Requirement already satisfied: soupsieve>1.2 in c:\\users\\alain\\anaconda3\\lib\\site-packages (from beautifulsoup4->dataframe_image) (2.2.1)\n",
      "Requirement already satisfied: webencodings in c:\\users\\alain\\anaconda3\\lib\\site-packages (from bleach->nbconvert>=5->dataframe_image) (0.5.1)\n",
      "Requirement already satisfied: urllib3<1.27,>=1.21.1 in c:\\users\\alain\\anaconda3\\lib\\site-packages (from requests->dataframe_image) (1.26.4)\n",
      "Requirement already satisfied: chardet<5,>=3.0.2 in c:\\users\\alain\\anaconda3\\lib\\site-packages (from requests->dataframe_image) (4.0.0)\n",
      "Requirement already satisfied: certifi>=2017.4.17 in c:\\users\\alain\\anaconda3\\lib\\site-packages (from requests->dataframe_image) (2020.12.5)\n"
     ]
    }
   ],
   "source": [
    "# install pakages\n",
    "! pip install scipy.stats\n",
    "! pip install seaborn\n",
    "! pip install dataframe_image"
   ]
  },
  {
   "cell_type": "code",
   "execution_count": 6,
   "id": "9c124b5d",
   "metadata": {},
   "outputs": [],
   "source": [
    "# import pakages\n",
    "from scipy.stats import skew\n",
    "from scipy.stats import kurtosis\n",
    "import seaborn as sns\n",
    "import dataframe_image as dfi\n",
    "import downstream as dst\n",
    "from downstream import preprocess_data_log_returns\n",
    "import calculation as calc\n",
    "import os\n",
    "import json\n",
    "import pandas as pd\n",
    "import numpy as np\n",
    "import matplotlib.pyplot as plt"
   ]
  },
  {
   "cell_type": "code",
   "execution_count": 2,
   "id": "be859ef9",
   "metadata": {},
   "outputs": [],
   "source": [
    "# Load the data for the \n",
    "data=dst.load_data()\n",
    "table=dst.preprocess_data_log_returns(data)"
   ]
  },
  {
   "cell_type": "code",
   "execution_count": 32,
   "id": "cf5b22b0",
   "metadata": {},
   "outputs": [
    {
     "data": {
      "image/png": "[encoded data removed]",
      "text/plain": [
       "<Figure size 720x504 with 2 Axes>"
      ]
     },
     "metadata": {
      "needs_background": "light"
     },
     "output_type": "display_data"
    }
   ],
   "source": [
    "# Create a Heatmap and a table of the Variance values \n",
    "var_table=table.var()\n",
    "var_table=pd.DataFrame(var_table)\n",
    "var_table.columns=['Variance']\n",
    "dfi.export(var_table, 'Variance.png')\n",
    "plt.figure(figsize = (10,7))\n",
    "sns.heatmap(var_table, annot=True,fmt='.3E')\n",
    "plt.yticks(rotation=0)\n",
    "plt.xticks(rotation=0)\n",
    "plt.savefig(\"Heatmap_Variance.jpg\")"
   ]
  },
  {
   "cell_type": "code",
   "execution_count": 33,
   "id": "85c9de11",
   "metadata": {},
   "outputs": [
    {
     "data": {
      "text/html": [
       "<div>\n",
       "<style scoped>\n",
       "    .dataframe tbody tr th:only-of-type {\n",
       "        vertical-align: middle;\n",
       "    }\n",
       "\n",
       "    .dataframe tbody tr th {\n",
       "        vertical-align: top;\n",
       "    }\n",
       "\n",
       "    .dataframe thead th {\n",
       "        text-align: right;\n",
       "    }\n",
       "</style>\n",
       "<table border=\"1\" class=\"dataframe\">\n",
       "  <thead>\n",
       "    <tr style=\"text-align: right;\">\n",
       "      <th></th>\n",
       "      <th>Variance</th>\n",
       "    </tr>\n",
       "  </thead>\n",
       "  <tbody>\n",
       "    <tr>\n",
       "      <th>CHFUSD</th>\n",
       "      <td>0.000016</td>\n",
       "    </tr>\n",
       "    <tr>\n",
       "      <th>CHFEUR</th>\n",
       "      <td>0.000008</td>\n",
       "    </tr>\n",
       "    <tr>\n",
       "      <th>CHFGBP</th>\n",
       "      <td>0.000028</td>\n",
       "    </tr>\n",
       "    <tr>\n",
       "      <th>CHFJPY</th>\n",
       "      <td>0.000016</td>\n",
       "    </tr>\n",
       "    <tr>\n",
       "      <th>CHFAUD</th>\n",
       "      <td>0.000039</td>\n",
       "    </tr>\n",
       "    <tr>\n",
       "      <th>CHFNZD</th>\n",
       "      <td>0.000062</td>\n",
       "    </tr>\n",
       "    <tr>\n",
       "      <th>CHFCAD</th>\n",
       "      <td>0.000027</td>\n",
       "    </tr>\n",
       "    <tr>\n",
       "      <th>CHFNOK</th>\n",
       "      <td>0.000070</td>\n",
       "    </tr>\n",
       "    <tr>\n",
       "      <th>CHFSEK</th>\n",
       "      <td>0.000023</td>\n",
       "    </tr>\n",
       "  </tbody>\n",
       "</table>\n",
       "</div>"
      ],
      "text/plain": [
       "        Variance\n",
       "CHFUSD  0.000016\n",
       "CHFEUR  0.000008\n",
       "CHFGBP  0.000028\n",
       "CHFJPY  0.000016\n",
       "CHFAUD  0.000039\n",
       "CHFNZD  0.000062\n",
       "CHFCAD  0.000027\n",
       "CHFNOK  0.000070\n",
       "CHFSEK  0.000023"
      ]
     },
     "execution_count": 33,
     "metadata": {},
     "output_type": "execute_result"
    }
   ],
   "source": [
    "var_table"
   ]
  },
  {
   "cell_type": "code",
   "execution_count": 7,
   "id": "e8f87ab6",
   "metadata": {},
   "outputs": [
    {
     "data": {
      "image/png": "[encoded data removed]",
      "text/plain": [
       "<Figure size 720x504 with 2 Axes>"
      ]
     },
     "metadata": {
      "needs_background": "light"
     },
     "output_type": "display_data"
    }
   ],
   "source": [
    "# Create a Heatmap of the ES values\n",
    "es_table=calc.expected_shortfall(table, alpha=0.05)\n",
    "es_table=es_table.transpose()\n",
    "dfi.export(es_table, 'ES.png')\n",
    "es_table.columns=['ES']\n",
    "plt.figure(figsize = (10,7))\n",
    "sns.heatmap(es_table, annot=True,fmt='.3E')\n",
    "plt.yticks(rotation=0)\n",
    "plt.xticks(rotation=0)\n",
    "plt.savefig(\"Heatmap_ES.jpg\")"
   ]
  },
  {
   "cell_type": "code",
   "execution_count": 8,
   "id": "1df31843",
   "metadata": {},
   "outputs": [
    {
     "data": {
      "text/html": [
       "<div>\n",
       "<style scoped>\n",
       "    .dataframe tbody tr th:only-of-type {\n",
       "        vertical-align: middle;\n",
       "    }\n",
       "\n",
       "    .dataframe tbody tr th {\n",
       "        vertical-align: top;\n",
       "    }\n",
       "\n",
       "    .dataframe thead th {\n",
       "        text-align: right;\n",
       "    }\n",
       "</style>\n",
       "<table border=\"1\" class=\"dataframe\">\n",
       "  <thead>\n",
       "    <tr style=\"text-align: right;\">\n",
       "      <th></th>\n",
       "      <th>ES</th>\n",
       "    </tr>\n",
       "  </thead>\n",
       "  <tbody>\n",
       "    <tr>\n",
       "      <th>CHFUSD</th>\n",
       "      <td>-0.009797</td>\n",
       "    </tr>\n",
       "    <tr>\n",
       "      <th>CHFEUR</th>\n",
       "      <td>-0.007036</td>\n",
       "    </tr>\n",
       "    <tr>\n",
       "      <th>CHFGBP</th>\n",
       "      <td>-0.011182</td>\n",
       "    </tr>\n",
       "    <tr>\n",
       "      <th>CHFJPY</th>\n",
       "      <td>-0.008227</td>\n",
       "    </tr>\n",
       "    <tr>\n",
       "      <th>CHFAUD</th>\n",
       "      <td>-0.015058</td>\n",
       "    </tr>\n",
       "    <tr>\n",
       "      <th>CHFNZD</th>\n",
       "      <td>-0.014231</td>\n",
       "    </tr>\n",
       "    <tr>\n",
       "      <th>CHFCAD</th>\n",
       "      <td>-0.012587</td>\n",
       "    </tr>\n",
       "    <tr>\n",
       "      <th>CHFNOK</th>\n",
       "      <td>-0.018147</td>\n",
       "    </tr>\n",
       "    <tr>\n",
       "      <th>CHFSEK</th>\n",
       "      <td>-0.010930</td>\n",
       "    </tr>\n",
       "  </tbody>\n",
       "</table>\n",
       "</div>"
      ],
      "text/plain": [
       "              ES\n",
       "CHFUSD -0.009797\n",
       "CHFEUR -0.007036\n",
       "CHFGBP -0.011182\n",
       "CHFJPY -0.008227\n",
       "CHFAUD -0.015058\n",
       "CHFNZD -0.014231\n",
       "CHFCAD -0.012587\n",
       "CHFNOK -0.018147\n",
       "CHFSEK -0.010930"
      ]
     },
     "execution_count": 8,
     "metadata": {},
     "output_type": "execute_result"
    }
   ],
   "source": [
    "es_table"
   ]
  },
  {
   "cell_type": "code",
   "execution_count": 9,
   "id": "bf3ac489",
   "metadata": {},
   "outputs": [
    {
     "data": {
      "image/png": "[encoded data removed]",
      "text/plain": [
       "<Figure size 432x288 with 1 Axes>"
      ]
     },
     "metadata": {
      "needs_background": "light"
     },
     "output_type": "display_data"
    }
   ],
   "source": [
    "# Create a Histogram for all lognormal returns of the different Currencies \n",
    "table_hist=table.iloc[: ,1:]\n",
    "plt.hist(table_hist,range=[-0.03,0.03])\n",
    "plt.title('Return Histogram')\n",
    "plt.xlabel('Returns') \n",
    "plt.ylabel('Number')  \n",
    "plt.style.use('tableau-colorblind10')\n",
    "plt.legend(table_hist.columns, loc =\"upper right\")\n",
    "plt.savefig(\"Histogram_G10.jpg\")"
   ]
  },
  {
   "cell_type": "code",
   "execution_count": 15,
   "id": "a1813f1f",
   "metadata": {},
   "outputs": [],
   "source": [
    "# create a table for different parameters \n",
    "table=table.iloc[:,1:]\n",
    "mean=table.mean()\n",
    "median=table.median()\n",
    "std=table.std()\n",
    "skewness=skew(table, axis=0)\n",
    "kurtosis=kurtosis(table, axis=0)\n",
    "param = pd.DataFrame(columns=table.columns,index=['Mean','Median','Std. dev.','Skewness','Kurtosis'])\n",
    "param=param.transpose()\n",
    "param['Mean']=mean\n",
    "param['Median']=median\n",
    "param['Std. dev.']=std\n",
    "param['Skewness']=skewness\n",
    "param['Kurtosis']=kurtosis\n",
    "param=param.transpose()\n",
    "dfi.export(param, 'different_parameters.png')"
   ]
  },
  {
   "cell_type": "code",
   "execution_count": 16,
   "id": "5e0cc7b7",
   "metadata": {},
   "outputs": [
    {
     "data": {
      "text/html": [
       "<div>\n",
       "<style scoped>\n",
       "    .dataframe tbody tr th:only-of-type {\n",
       "        vertical-align: middle;\n",
       "    }\n",
       "\n",
       "    .dataframe tbody tr th {\n",
       "        vertical-align: top;\n",
       "    }\n",
       "\n",
       "    .dataframe thead th {\n",
       "        text-align: right;\n",
       "    }\n",
       "</style>\n",
       "<table border=\"1\" class=\"dataframe\">\n",
       "  <thead>\n",
       "    <tr style=\"text-align: right;\">\n",
       "      <th></th>\n",
       "      <th>CHFUSD</th>\n",
       "      <th>CHFEUR</th>\n",
       "      <th>CHFGBP</th>\n",
       "      <th>CHFJPY</th>\n",
       "      <th>CHFAUD</th>\n",
       "      <th>CHFNZD</th>\n",
       "      <th>CHFCAD</th>\n",
       "      <th>CHFNOK</th>\n",
       "      <th>CHFSEK</th>\n",
       "    </tr>\n",
       "  </thead>\n",
       "  <tbody>\n",
       "    <tr>\n",
       "      <th>Mean</th>\n",
       "      <td>0.000228</td>\n",
       "      <td>0.000005</td>\n",
       "      <td>0.000142</td>\n",
       "      <td>0.000087</td>\n",
       "      <td>-0.000022</td>\n",
       "      <td>0.000294</td>\n",
       "      <td>0.000178</td>\n",
       "      <td>0.000184</td>\n",
       "      <td>-0.000106</td>\n",
       "    </tr>\n",
       "    <tr>\n",
       "      <th>Median</th>\n",
       "      <td>0.000000</td>\n",
       "      <td>0.000000</td>\n",
       "      <td>0.000000</td>\n",
       "      <td>0.000000</td>\n",
       "      <td>0.000000</td>\n",
       "      <td>0.000000</td>\n",
       "      <td>0.000055</td>\n",
       "      <td>0.000000</td>\n",
       "      <td>0.000000</td>\n",
       "    </tr>\n",
       "    <tr>\n",
       "      <th>Std. dev.</th>\n",
       "      <td>0.004031</td>\n",
       "      <td>0.002831</td>\n",
       "      <td>0.005281</td>\n",
       "      <td>0.003955</td>\n",
       "      <td>0.006211</td>\n",
       "      <td>0.007882</td>\n",
       "      <td>0.005208</td>\n",
       "      <td>0.008395</td>\n",
       "      <td>0.004774</td>\n",
       "    </tr>\n",
       "    <tr>\n",
       "      <th>Skewness</th>\n",
       "      <td>-0.668778</td>\n",
       "      <td>-0.103202</td>\n",
       "      <td>0.682845</td>\n",
       "      <td>0.687379</td>\n",
       "      <td>0.022817</td>\n",
       "      <td>5.047493</td>\n",
       "      <td>0.164912</td>\n",
       "      <td>0.841973</td>\n",
       "      <td>0.181355</td>\n",
       "    </tr>\n",
       "    <tr>\n",
       "      <th>Kurtosis</th>\n",
       "      <td>4.965501</td>\n",
       "      <td>9.437659</td>\n",
       "      <td>5.739862</td>\n",
       "      <td>5.317197</td>\n",
       "      <td>2.666667</td>\n",
       "      <td>60.679966</td>\n",
       "      <td>4.370734</td>\n",
       "      <td>7.713197</td>\n",
       "      <td>2.957841</td>\n",
       "    </tr>\n",
       "  </tbody>\n",
       "</table>\n",
       "</div>"
      ],
      "text/plain": [
       "             CHFUSD    CHFEUR    CHFGBP    CHFJPY    CHFAUD     CHFNZD  \\\n",
       "Mean       0.000228  0.000005  0.000142  0.000087 -0.000022   0.000294   \n",
       "Median     0.000000  0.000000  0.000000  0.000000  0.000000   0.000000   \n",
       "Std. dev.  0.004031  0.002831  0.005281  0.003955  0.006211   0.007882   \n",
       "Skewness  -0.668778 -0.103202  0.682845  0.687379  0.022817   5.047493   \n",
       "Kurtosis   4.965501  9.437659  5.739862  5.317197  2.666667  60.679966   \n",
       "\n",
       "             CHFCAD    CHFNOK    CHFSEK  \n",
       "Mean       0.000178  0.000184 -0.000106  \n",
       "Median     0.000055  0.000000  0.000000  \n",
       "Std. dev.  0.005208  0.008395  0.004774  \n",
       "Skewness   0.164912  0.841973  0.181355  \n",
       "Kurtosis   4.370734  7.713197  2.957841  "
      ]
     },
     "execution_count": 16,
     "metadata": {},
     "output_type": "execute_result"
    }
   ],
   "source": [
    "param"
   ]
  }
 ],
 "metadata": {
  "kernelspec": {
   "display_name": "Python 3",
   "language": "python",
   "name": "python3"
  },
  "language_info": {
   "codemirror_mode": {
    "name": "ipython",
    "version": 3
   },
   "file_extension": ".py",
   "mimetype": "text/x-python",
   "name": "python",
   "nbconvert_exporter": "python",
   "pygments_lexer": "ipython3",
   "version": "3.8.8"
  }
 },
 "nbformat": 4,
 "nbformat_minor": 5
}
